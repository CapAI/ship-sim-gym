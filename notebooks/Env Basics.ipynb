{
 "cells": [
  {
   "cell_type": "code",
   "execution_count": 1,
   "metadata": {},
   "outputs": [
    {
     "ename": "ModuleNotFoundError",
     "evalue": "No module named 'game'",
     "output_type": "error",
     "traceback": [
      "\u001b[0;31m---------------------------------------------------------------------------\u001b[0m",
      "\u001b[0;31mModuleNotFoundError\u001b[0m                       Traceback (most recent call last)",
      "\u001b[0;32m<ipython-input-1-e2e281a8f763>\u001b[0m in \u001b[0;36m<module>\u001b[0;34m\u001b[0m\n\u001b[1;32m      1\u001b[0m \u001b[0;32mimport\u001b[0m \u001b[0mgym\u001b[0m\u001b[0;34m\u001b[0m\u001b[0m\n\u001b[0;32m----> 2\u001b[0;31m \u001b[0;32mimport\u001b[0m \u001b[0mgame\u001b[0m\u001b[0;34m\u001b[0m\u001b[0m\n\u001b[0m\u001b[1;32m      3\u001b[0m \u001b[0;34m\u001b[0m\u001b[0m\n\u001b[1;32m      4\u001b[0m \u001b[0;32mfrom\u001b[0m \u001b[0mship_env\u001b[0m \u001b[0;32mimport\u001b[0m \u001b[0mShipEnv\u001b[0m\u001b[0;34m\u001b[0m\u001b[0m\n\u001b[1;32m      5\u001b[0m \u001b[0;34m\u001b[0m\u001b[0m\n",
      "\u001b[0;31mModuleNotFoundError\u001b[0m: No module named 'game'"
     ]
    }
   ],
   "source": [
    "import gym\n",
    "import game\n",
    "\n",
    "from ship_env import ShipEnv\n",
    "\n",
    "from gym import wrappers, logger\n",
    "%load_ext autoreload\n",
    "%autoreload 2\n",
    "\n",
    "import matplotlib.pyplot as plt\n",
    "import cv2\n",
    "import numpy as np\n",
    "\n",
    "%matplotlib inline"
   ]
  },
  {
   "cell_type": "code",
   "execution_count": 2,
   "metadata": {},
   "outputs": [
    {
     "name": "stdout",
     "output_type": "stream",
     "text": [
      " *** SHIP-GYM INITIALIZED *** \n"
     ]
    }
   ],
   "source": [
    "# Load up the ShipSim env\n",
    "env = ShipEnv(speed=1, fps=10)"
   ]
  },
  {
   "cell_type": "code",
   "execution_count": 4,
   "metadata": {
    "scrolled": true
   },
   "outputs": [
    {
     "name": "stdout",
     "output_type": "stream",
     "text": [
      "REACHED GOAL\n",
      "COLLIDE WITH SHIP\n",
      "COLLIDE WITH SHIP\n",
      "COLLIDE WITH SHIP\n",
      "Finished making video\n"
     ]
    }
   ],
   "source": [
    "class FrameVideoWriter(object):\n",
    "    \n",
    "    def __init__(self, path, size, transform, fps=30):        \n",
    "        fourcc = cv2.VideoWriter_fourcc(*'mpeg')\n",
    "        self.vout = cv2.VideoWriter()\n",
    "        self.size = size\n",
    "        self.transform = transform\n",
    "        self.vout.open(path,fourcc,fps,self.size,True)\n",
    "             \n",
    "    def write_frame(self, frame):\n",
    "        cv2.resize(frame, self.size, interpolation=cv2.INTER_CUBIC)\n",
    "        frame = self.transform(frame)\n",
    "        self.vout.write(frame)\n",
    "                  \n",
    "    def finish(self):\n",
    "        self.vout.release()\n",
    "              \n",
    "                       \n",
    "transform = lambda f : cv2.rotate(f[...,::-1], cv2.ROTATE_90_CLOCKWISE)\n",
    "fvw = FrameVideoWriter(\"forward.mp4\", (128,128), transform, fps=30)\n",
    "env.reset()\n",
    "\n",
    "for _ in range(100):\n",
    "    ret = env.step(0)\n",
    "    frame = ret[0]\n",
    "    fvw.write_frame(frame)   \n",
    "    \n",
    "fvw.finish()\n",
    "\n",
    "\n",
    "print(\"Finished making video\")"
   ]
  },
  {
   "cell_type": "code",
   "execution_count": 3,
   "metadata": {},
   "outputs": [
    {
     "name": "stdout",
     "output_type": "stream",
     "text": [
      "reward =  -0.01\n"
     ]
    },
    {
     "data": {
      "text/plain": [
       "<matplotlib.image.AxesImage at 0x119094780>"
      ]
     },
     "execution_count": 3,
     "metadata": {},
     "output_type": "execute_result"
    },
    {
     "data": {
      "image/png": "[encoded data removed]",
      "text/plain": [
       "<Figure size 432x288 with 1 Axes>"
      ]
     },
     "metadata": {
      "needs_background": "light"
     },
     "output_type": "display_data"
    }
   ],
   "source": [
    "# Let's visualise a single step\n",
    "env.reset()\n",
    "ret = env.step(0)\n",
    "\n",
    "# print(ret)\n",
    "print(\"reward = \", ret[1])\n",
    "\n",
    "cv2.imwrite(\"test.png\", ret[0])\n",
    "plt.imshow(ret[0])"
   ]
  },
  {
   "cell_type": "code",
   "execution_count": 5,
   "metadata": {},
   "outputs": [
    {
     "name": "stdout",
     "output_type": "stream",
     "text": [
      " *** SHIP-GYM INITIALIZED *** \n",
      "\u001b[33mWARN: Trying to monitor an environment which has no 'spec' set. This usually means you did not create it via 'gym.make', and is recommended only for advanced users.\u001b[0m\n",
      "Start Episode #0\n",
      "..................REACHED GOAL\n",
      ".................................................COLLIDE WITH SHIP\n",
      "........COLLIDE WITH SHIP\n",
      ".........COLLIDE WITH SHIP\n",
      "...................COLLIDE WITH SHIP\n",
      "..........COLLIDE WITH SHIP\n",
      ".......................................................................................................................................................................................................................................................................................................................................................................................................................................................................................................................................................................................................................................................................................................................................................................................................................................................................................................................Episode finished.\n",
      "Final Reward =  -8.999999999999854\n"
     ]
    }
   ],
   "source": [
    "class RandomAgent(object):\n",
    "    \"\"\"The world's simplest agent!\"\"\"\n",
    "    def __init__(self, action_space):\n",
    "        self.action_space = action_space\n",
    "\n",
    "    def act(self, observation, reward, done):\n",
    "        return self.action_space.sample()\n",
    "\n",
    "    \n",
    "# You provide the directory to write to (can be an existing\n",
    "# directory, including one with existing data -- all monitor files\n",
    "# will be namespaced). You can also dump to a tempdir if you'd\n",
    "# like: tempfile.mkdtemp().\n",
    "outdir = '/tmp/random-agent-results'\n",
    "env = ShipEnv(speed=1, fps=1)\n",
    "env = wrappers.Monitor(env, directory=outdir, force=True)\n",
    "env.seed(0)\n",
    "agent = RandomAgent(env.action_space)\n",
    "\n",
    "episode_count = 1\n",
    "reward = 0\n",
    "total_reward = 0\n",
    "done = False\n",
    "\n",
    "fvw = FrameVideoWriter(\"random_agent.mp4\", (128, 128), transform, fps=30)\n",
    "\n",
    "for i in range(episode_count):\n",
    "    ob = env.reset()\n",
    "    total_reward = 0\n",
    "    \n",
    "    print(f\"Start Episode #{i}\")\n",
    "    while True:\n",
    "        action = agent.act(ob, reward, done)\n",
    "        ob, reward, done, _ = env.step(action)\n",
    "        total_reward += reward\n",
    "        print(\".\", end=\"\")\n",
    "        if done:\n",
    "            print(\"Episode finished.\")\n",
    "            print(\"Final Reward = \", total_reward)\n",
    "            break\n",
    "\n",
    "#         print(ob.shape)\n",
    "        fvw.write_frame(ob)\n",
    "        \n",
    "        # Note there's no env.render() here. But the environment still can open window and\n",
    "        # render if asked by env.monitor: it calls env.render('rgb_array') to record video.\n",
    "        # Video is not recorded every episode, see capped_cubic_video_schedule for details.\n",
    "\n",
    "# Close the env and write monitor result info to disk\n",
    "env.close()\n",
    "fvw.finish()"
   ]
  },
  {
   "cell_type": "code",
   "execution_count": 6,
   "metadata": {},
   "outputs": [
    {
     "name": "stderr",
     "output_type": "stream",
     "text": [
      "/Users/gerard/.virtualenvs/ship-gym/lib/python3.6/importlib/_bootstrap.py:219: RuntimeWarning: compiletime version 3.5 of module 'tensorflow.python.framework.fast_tensor_util' does not match runtime version 3.6\n",
      "  return f(*args, **kwds)\n"
     ]
    },
    {
     "name": "stdout",
     "output_type": "stream",
     "text": [
      "Logging to /var/folders/p5/vlbb7n216ydgw5ygyz0r0qgw0000gn/T/openai-2018-09-08-13-18-27-804071\n",
      " *** SHIP-GYM INITIALIZED *** \n",
      "(?, 128, 128, 3)\n",
      "(?, 31, 31, 32)\n",
      "(?, 14, 14, 64)\n",
      "(?, 128, 128, 3)\n",
      "(?, 31, 31, 32)\n",
      "(?, 14, 14, 64)\n",
      "WARNING:tensorflow:From /Users/gerard/.virtualenvs/ship-gym/lib/python3.6/site-packages/baselines/common/distributions.py:136: calling reduce_max (from tensorflow.python.ops.math_ops) with keep_dims is deprecated and will be removed in a future version.\n",
      "Instructions for updating:\n",
      "keep_dims is deprecated, use keepdims instead\n",
      "WARNING:tensorflow:From /Users/gerard/.virtualenvs/ship-gym/lib/python3.6/site-packages/baselines/common/distributions.py:140: calling reduce_sum (from tensorflow.python.ops.math_ops) with keep_dims is deprecated and will be removed in a future version.\n",
      "Instructions for updating:\n",
      "keep_dims is deprecated, use keepdims instead\n",
      "WARNING:tensorflow:From /Users/gerard/.virtualenvs/ship-gym/lib/python3.6/site-packages/baselines/common/distributions.py:134: softmax_cross_entropy_with_logits (from tensorflow.python.ops.nn_ops) is deprecated and will be removed in a future version.\n",
      "Instructions for updating:\n",
      "\n",
      "Future major versions of TensorFlow will allow gradients to flow\n",
      "into the labels input on backprop by default.\n",
      "\n",
      "See @{tf.nn.softmax_cross_entropy_with_logits_v2}.\n",
      "\n",
      "********** Iteration 0 ************\n",
      "{}\n"
     ]
    },
    {
     "ename": "KeyError",
     "evalue": "None",
     "output_type": "error",
     "traceback": [
      "\u001b[0;31m---------------------------------------------------------------------------\u001b[0m",
      "\u001b[0;31mKeyError\u001b[0m                                  Traceback (most recent call last)",
      "\u001b[0;32m<ipython-input-6-ae85ca407b1d>\u001b[0m in \u001b[0;36m<module>\u001b[0;34m()\u001b[0m\n\u001b[1;32m     51\u001b[0m     \u001b[0mtrain\u001b[0m\u001b[0;34m(\u001b[0m\u001b[0;36m1000\u001b[0m\u001b[0;34m,\u001b[0m \u001b[0;36m0\u001b[0m\u001b[0;34m)\u001b[0m\u001b[0;34m\u001b[0m\u001b[0m\n\u001b[1;32m     52\u001b[0m \u001b[0;34m\u001b[0m\u001b[0m\n\u001b[0;32m---> 53\u001b[0;31m \u001b[0mmain\u001b[0m\u001b[0;34m(\u001b[0m\u001b[0;34m)\u001b[0m\u001b[0;34m\u001b[0m\u001b[0m\n\u001b[0m",
      "\u001b[0;32m<ipython-input-6-ae85ca407b1d>\u001b[0m in \u001b[0;36mmain\u001b[0;34m()\u001b[0m\n\u001b[1;32m     49\u001b[0m \u001b[0;34m\u001b[0m\u001b[0m\n\u001b[1;32m     50\u001b[0m \u001b[0;32mdef\u001b[0m \u001b[0mmain\u001b[0m\u001b[0;34m(\u001b[0m\u001b[0;34m)\u001b[0m\u001b[0;34m:\u001b[0m\u001b[0;34m\u001b[0m\u001b[0m\n\u001b[0;32m---> 51\u001b[0;31m     \u001b[0mtrain\u001b[0m\u001b[0;34m(\u001b[0m\u001b[0;36m1000\u001b[0m\u001b[0;34m,\u001b[0m \u001b[0;36m0\u001b[0m\u001b[0;34m)\u001b[0m\u001b[0;34m\u001b[0m\u001b[0m\n\u001b[0m\u001b[1;32m     52\u001b[0m \u001b[0;34m\u001b[0m\u001b[0m\n\u001b[1;32m     53\u001b[0m \u001b[0mmain\u001b[0m\u001b[0;34m(\u001b[0m\u001b[0;34m)\u001b[0m\u001b[0;34m\u001b[0m\u001b[0m\n",
      "\u001b[0;32m<ipython-input-6-ae85ca407b1d>\u001b[0m in \u001b[0;36mtrain\u001b[0;34m(num_timesteps, seed)\u001b[0m\n\u001b[1;32m     44\u001b[0m         \u001b[0moptim_epochs\u001b[0m\u001b[0;34m=\u001b[0m\u001b[0;36m4\u001b[0m\u001b[0;34m,\u001b[0m \u001b[0moptim_stepsize\u001b[0m\u001b[0;34m=\u001b[0m\u001b[0;36m1e-3\u001b[0m\u001b[0;34m,\u001b[0m \u001b[0moptim_batchsize\u001b[0m\u001b[0;34m=\u001b[0m\u001b[0;36m64\u001b[0m\u001b[0;34m,\u001b[0m\u001b[0;34m\u001b[0m\u001b[0m\n\u001b[1;32m     45\u001b[0m         \u001b[0mgamma\u001b[0m\u001b[0;34m=\u001b[0m\u001b[0;36m0.99\u001b[0m\u001b[0;34m,\u001b[0m \u001b[0mlam\u001b[0m\u001b[0;34m=\u001b[0m\u001b[0;36m0.95\u001b[0m\u001b[0;34m,\u001b[0m\u001b[0;34m\u001b[0m\u001b[0m\n\u001b[0;32m---> 46\u001b[0;31m         \u001b[0mschedule\u001b[0m\u001b[0;34m=\u001b[0m\u001b[0;34m'linear'\u001b[0m\u001b[0;34m\u001b[0m\u001b[0m\n\u001b[0m\u001b[1;32m     47\u001b[0m     )\n\u001b[1;32m     48\u001b[0m     \u001b[0menv\u001b[0m\u001b[0;34m.\u001b[0m\u001b[0mclose\u001b[0m\u001b[0;34m(\u001b[0m\u001b[0;34m)\u001b[0m\u001b[0;34m\u001b[0m\u001b[0m\n",
      "\u001b[0;32m~/.virtualenvs/ship-gym/lib/python3.6/site-packages/baselines/ppo1/pposgd_simple.py\u001b[0m in \u001b[0;36mlearn\u001b[0;34m(env, policy_fn, timesteps_per_actorbatch, clip_param, entcoeff, optim_epochs, optim_stepsize, optim_batchsize, gamma, lam, max_timesteps, max_episodes, max_iters, max_seconds, callback, adam_epsilon, schedule)\u001b[0m\n\u001b[1;32m    162\u001b[0m         \u001b[0mlogger\u001b[0m\u001b[0;34m.\u001b[0m\u001b[0mlog\u001b[0m\u001b[0;34m(\u001b[0m\u001b[0;34m\"********** Iteration %i ************\"\u001b[0m\u001b[0;34m%\u001b[0m\u001b[0miters_so_far\u001b[0m\u001b[0;34m)\u001b[0m\u001b[0;34m\u001b[0m\u001b[0m\n\u001b[1;32m    163\u001b[0m \u001b[0;34m\u001b[0m\u001b[0m\n\u001b[0;32m--> 164\u001b[0;31m         \u001b[0mseg\u001b[0m \u001b[0;34m=\u001b[0m \u001b[0mseg_gen\u001b[0m\u001b[0;34m.\u001b[0m\u001b[0m__next__\u001b[0m\u001b[0;34m(\u001b[0m\u001b[0;34m)\u001b[0m\u001b[0;34m\u001b[0m\u001b[0m\n\u001b[0m\u001b[1;32m    165\u001b[0m         \u001b[0madd_vtarg_and_adv\u001b[0m\u001b[0;34m(\u001b[0m\u001b[0mseg\u001b[0m\u001b[0;34m,\u001b[0m \u001b[0mgamma\u001b[0m\u001b[0;34m,\u001b[0m \u001b[0mlam\u001b[0m\u001b[0;34m)\u001b[0m\u001b[0;34m\u001b[0m\u001b[0m\n\u001b[1;32m    166\u001b[0m \u001b[0;34m\u001b[0m\u001b[0m\n",
      "\u001b[0;32m~/.virtualenvs/ship-gym/lib/python3.6/site-packages/baselines/ppo1/pposgd_simple.py\u001b[0m in \u001b[0;36mtraj_segment_generator\u001b[0;34m(pi, env, horizon, stochastic)\u001b[0m\n\u001b[1;32m     30\u001b[0m     \u001b[0;32mwhile\u001b[0m \u001b[0;32mTrue\u001b[0m\u001b[0;34m:\u001b[0m\u001b[0;34m\u001b[0m\u001b[0m\n\u001b[1;32m     31\u001b[0m         \u001b[0mprevac\u001b[0m \u001b[0;34m=\u001b[0m \u001b[0mac\u001b[0m\u001b[0;34m\u001b[0m\u001b[0m\n\u001b[0;32m---> 32\u001b[0;31m         \u001b[0mac\u001b[0m\u001b[0;34m,\u001b[0m \u001b[0mvpred\u001b[0m \u001b[0;34m=\u001b[0m \u001b[0mpi\u001b[0m\u001b[0;34m.\u001b[0m\u001b[0mact\u001b[0m\u001b[0;34m(\u001b[0m\u001b[0mstochastic\u001b[0m\u001b[0;34m,\u001b[0m \u001b[0mob\u001b[0m\u001b[0;34m)\u001b[0m\u001b[0;34m\u001b[0m\u001b[0m\n\u001b[0m\u001b[1;32m     33\u001b[0m         \u001b[0;31m# Slight weirdness here because we need value function at time T\u001b[0m\u001b[0;34m\u001b[0m\u001b[0;34m\u001b[0m\u001b[0m\n\u001b[1;32m     34\u001b[0m         \u001b[0;31m# before returning segment [0, T-1] so we get the correct\u001b[0m\u001b[0;34m\u001b[0m\u001b[0;34m\u001b[0m\u001b[0m\n",
      "\u001b[0;32m~/.virtualenvs/ship-gym/lib/python3.6/site-packages/baselines/ppo1/cnn_policy.py\u001b[0m in \u001b[0;36mact\u001b[0;34m(self, stochastic, ob)\u001b[0m\n\u001b[1;32m     47\u001b[0m     \u001b[0;32mdef\u001b[0m \u001b[0mact\u001b[0m\u001b[0;34m(\u001b[0m\u001b[0mself\u001b[0m\u001b[0;34m,\u001b[0m \u001b[0mstochastic\u001b[0m\u001b[0;34m,\u001b[0m \u001b[0mob\u001b[0m\u001b[0;34m)\u001b[0m\u001b[0;34m:\u001b[0m\u001b[0;34m\u001b[0m\u001b[0m\n\u001b[1;32m     48\u001b[0m         \u001b[0mprint\u001b[0m\u001b[0;34m(\u001b[0m\u001b[0mob\u001b[0m\u001b[0;34m)\u001b[0m\u001b[0;34m\u001b[0m\u001b[0m\n\u001b[0;32m---> 49\u001b[0;31m         \u001b[0mac1\u001b[0m\u001b[0;34m,\u001b[0m \u001b[0mvpred1\u001b[0m \u001b[0;34m=\u001b[0m  \u001b[0mself\u001b[0m\u001b[0;34m.\u001b[0m\u001b[0m_act\u001b[0m\u001b[0;34m(\u001b[0m\u001b[0mstochastic\u001b[0m\u001b[0;34m,\u001b[0m \u001b[0mob\u001b[0m\u001b[0;34m[\u001b[0m\u001b[0;32mNone\u001b[0m\u001b[0;34m]\u001b[0m\u001b[0;34m)\u001b[0m\u001b[0;34m\u001b[0m\u001b[0m\n\u001b[0m\u001b[1;32m     50\u001b[0m         \u001b[0;32mreturn\u001b[0m \u001b[0mac1\u001b[0m\u001b[0;34m[\u001b[0m\u001b[0;36m0\u001b[0m\u001b[0;34m]\u001b[0m\u001b[0;34m,\u001b[0m \u001b[0mvpred1\u001b[0m\u001b[0;34m[\u001b[0m\u001b[0;36m0\u001b[0m\u001b[0;34m]\u001b[0m\u001b[0;34m\u001b[0m\u001b[0m\n\u001b[1;32m     51\u001b[0m     \u001b[0;32mdef\u001b[0m \u001b[0mget_variables\u001b[0m\u001b[0;34m(\u001b[0m\u001b[0mself\u001b[0m\u001b[0;34m)\u001b[0m\u001b[0;34m:\u001b[0m\u001b[0;34m\u001b[0m\u001b[0m\n",
      "\u001b[0;31mKeyError\u001b[0m: None"
     ]
    }
   ],
   "source": [
    "# What if we use a smarter agent ...?\n",
    "\n",
    "# Baselines contains implementations of all the common RL algorithms ..\n",
    "\n",
    "#!/usr/bin/env python3\n",
    "\n",
    "from mpi4py import MPI\n",
    "from baselines.common import set_global_seeds\n",
    "from baselines import bench\n",
    "import os.path as osp\n",
    "from baselines import logger\n",
    "from baselines.common.atari_wrappers import make_atari, wrap_deepmind\n",
    "from baselines.common.cmd_util import atari_arg_parser\n",
    "\n",
    "def train(num_timesteps, seed):\n",
    "    from baselines.ppo1 import pposgd_simple, cnn_policy\n",
    "    import baselines.common.tf_util as U\n",
    "    \n",
    "    rank = MPI.COMM_WORLD.Get_rank()\n",
    "    sess = U.single_threaded_session()\n",
    "    sess.__enter__()\n",
    "    if rank == 0:\n",
    "        logger.configure()\n",
    "    else:\n",
    "        logger.configure(format_strs=[])\n",
    "    workerseed = seed + 10000 * MPI.COMM_WORLD.Get_rank() if seed is not None else None\n",
    "    set_global_seeds(workerseed)\n",
    "    \n",
    "    def policy_fn(name, ob_space, ac_space): #pylint: disable=W0613\n",
    "        return cnn_policy.CnnPolicy(name=name, ob_space=ob_space, ac_space=ac_space)\n",
    "\n",
    "    env = ShipEnv(speed=1, fps=10)\n",
    "    env = bench.Monitor(env, logger.get_dir() and\n",
    "        osp.join(logger.get_dir(), str(rank)))\n",
    "    env.seed(workerseed)\n",
    "\n",
    "#     env = wrap_deepmind(env)\n",
    "#     env.seed(workerseed)\n",
    "\n",
    "    pposgd_simple.learn(env, policy_fn,\n",
    "        max_timesteps=int(num_timesteps * 1.1),\n",
    "        timesteps_per_actorbatch=256,\n",
    "        clip_param=0.2, entcoeff=0.01,\n",
    "        optim_epochs=4, optim_stepsize=1e-3, optim_batchsize=64,\n",
    "        gamma=0.99, lam=0.95,\n",
    "        schedule='linear'\n",
    "    )\n",
    "    env.close()\n",
    "\n",
    "def main():\n",
    "    train(1000, 0)\n",
    "\n",
    "main()\n"
   ]
  },
  {
   "cell_type": "code",
   "execution_count": null,
   "metadata": {},
   "outputs": [],
   "source": []
  }
 ],
 "metadata": {
  "kernelspec": {
   "display_name": "ship-sim-gym3.6",
   "language": "python",
   "name": "python3"
  },
  "language_info": {
   "codemirror_mode": {
    "name": "ipython",
    "version": 3
   },
   "file_extension": ".py",
   "mimetype": "text/x-python",
   "name": "python",
   "nbconvert_exporter": "python",
   "pygments_lexer": "ipython3",
   "version": "3.6.6"
  }
 },
 "nbformat": 4,
 "nbformat_minor": 2
}
